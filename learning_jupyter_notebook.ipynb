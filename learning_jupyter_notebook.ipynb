{
 "cells": [
  {
   "cell_type": "markdown",
   "metadata": {},
   "source": [
    "# Header\n",
    "\n",
    "This notebook test was based on:\n",
    "\n",
    "Jupyter Notebook Tutorial: Introduction, Setup, and Walkthrough\n",
    "\n",
    "https://www.youtube.com/watch?v=HW29067qVWk&t=981s\n",
    "\n",
    "*Note that this text will be in italic*\n",
    "\n",
    "## Another headline (H2)\n",
    "\n",
    "This is a normal paragraph.\n",
    "\n",
    "Basic formatting *italics*, **bold** and *it can be **nested** like this*\n",
    "\n",
    "### Another headline (H3)\n",
    "\n",
    "1. item 1\n",
    "2. item 2\n",
    "3. item 3"
   ]
  },
  {
   "cell_type": "code",
   "execution_count": 13,
   "metadata": {},
   "outputs": [
    {
     "data": {
      "text/html": [
       "<iframe width=\"560\" height=\"315\" src=\"https://www.youtube.com/embed/HW29067qVWk\"\n",
       "frameborder=\"0\" allowfullscreen> </frame>\n"
      ],
      "text/plain": [
       "<IPython.core.display.HTML object>"
      ]
     },
     "metadata": {},
     "output_type": "display_data"
    }
   ],
   "source": [
    "%%HTML\n",
    "<iframe width=\"560\" height=\"315\" src=\"https://www.youtube.com/embed/HW29067qVWk\"\n",
    "frameborder=\"0\" allowfullscreen> </frame>"
   ]
  },
  {
   "cell_type": "code",
   "execution_count": 6,
   "metadata": {},
   "outputs": [
    {
     "data": {
      "text/plain": [
       "2"
      ]
     },
     "execution_count": 6,
     "metadata": {},
     "output_type": "execute_result"
    }
   ],
   "source": [
    "1+1"
   ]
  },
  {
   "cell_type": "code",
   "execution_count": 7,
   "metadata": {},
   "outputs": [
    {
     "name": "stdout",
     "output_type": "stream",
     "text": [
      "Hello World\n"
     ]
    }
   ],
   "source": [
    "print(\"Hello World\")"
   ]
  },
  {
   "cell_type": "code",
   "execution_count": 8,
   "metadata": {},
   "outputs": [],
   "source": [
    "name = \"John\""
   ]
  },
  {
   "cell_type": "code",
   "execution_count": 9,
   "metadata": {},
   "outputs": [
    {
     "data": {
      "text/plain": [
       "'John'"
      ]
     },
     "execution_count": 9,
     "metadata": {},
     "output_type": "execute_result"
    }
   ],
   "source": [
    "name"
   ]
  },
  {
   "cell_type": "code",
   "execution_count": 10,
   "metadata": {},
   "outputs": [
    {
     "name": "stdout",
     "output_type": "stream",
     "text": [
      "John\n"
     ]
    }
   ],
   "source": [
    "print(name)"
   ]
  },
  {
   "cell_type": "code",
   "execution_count": 20,
   "metadata": {
    "collapsed": true
   },
   "outputs": [
    {
     "name": "stdout",
     "output_type": "stream",
     "text": [
      "Package            Version  \n",
      "------------------ ---------\n",
      "astroML            0.4.post1\n",
      "astropy            3.2.1    \n",
      "attrs              19.1.0   \n",
      "autopep8           1.4.4    \n",
      "backcall           0.1.0    \n",
      "bleach             3.1.0    \n",
      "certifi            2019.3.9 \n",
      "chardet            3.0.4    \n",
      "colorama           0.4.1    \n",
      "cycler             0.10.0   \n",
      "Cython             0.29.11  \n",
      "decorator          4.4.0    \n",
      "defusedxml         0.6.0    \n",
      "entrypoints        0.3      \n",
      "h5py               2.9.0    \n",
      "idna               2.8      \n",
      "ipykernel          5.1.0    \n",
      "ipython            7.5.0    \n",
      "ipython-genutils   0.2.0    \n",
      "ipywidgets         7.4.2    \n",
      "jedi               0.13.3   \n",
      "Jinja2             2.10.1   \n",
      "joblib             0.13.2   \n",
      "jsonschema         3.0.1    \n",
      "jupyter            1.0.0    \n",
      "jupyter-client     5.2.4    \n",
      "jupyter-console    6.0.0    \n",
      "jupyter-core       4.4.0    \n",
      "jupyterthemes      0.20.0   \n",
      "kiwisolver         1.1.0    \n",
      "lesscpy            0.13.0   \n",
      "llvmlite           0.28.0   \n",
      "MarkupSafe         1.1.1    \n",
      "matplotlib         3.1.0    \n",
      "mistune            0.8.4    \n",
      "mpmath             1.1.0    \n",
      "nbconvert          5.5.0    \n",
      "nbformat           4.4.0    \n",
      "networkx           2.3      \n",
      "notebook           5.7.8    \n",
      "numba              0.43.1   \n",
      "numpy              1.16.3   \n",
      "pandas             0.24.2   \n",
      "pandocfilters      1.4.2    \n",
      "parso              0.4.0    \n",
      "patsy              0.5.1    \n",
      "pickleshare        0.7.5    \n",
      "pip                19.2.2   \n",
      "ply                3.11     \n",
      "prometheus-client  0.6.0    \n",
      "prompt-toolkit     2.0.9    \n",
      "py4j               0.10.7   \n",
      "pycodestyle        2.5.0    \n",
      "pygame             1.9.6    \n",
      "Pygments           2.4.0    \n",
      "pymc3              3.7      \n",
      "pyparsing          2.4.0    \n",
      "pyrsistent         0.15.2   \n",
      "pyspark            2.4.3    \n",
      "python-dateutil    2.8.0    \n",
      "pytz               2019.1   \n",
      "pywinpty           0.5.5    \n",
      "pyzmq              18.0.1   \n",
      "qtconsole          4.4.4    \n",
      "quantecon          0.4.3    \n",
      "requests           2.21.0   \n",
      "scikit-learn       0.21.2   \n",
      "scipy              1.3.0    \n",
      "Send2Trash         1.5.0    \n",
      "setuptools         40.8.0   \n",
      "six                1.12.0   \n",
      "sympy              1.4      \n",
      "terminado          0.8.2    \n",
      "testpath           0.4.2    \n",
      "Theano             1.0.4    \n",
      "tornado            6.0.2    \n",
      "tqdm               4.34.0   \n",
      "traitlets          4.3.2    \n",
      "urllib3            1.24.3   \n",
      "wcwidth            0.1.7    \n",
      "webencodings       0.5.1    \n",
      "widgetsnbextension 3.4.2    \n"
     ]
    }
   ],
   "source": [
    "!pip list\n"
   ]
  },
  {
   "cell_type": "code",
   "execution_count": 15,
   "metadata": {},
   "outputs": [
    {
     "data": {
      "application/json": {
       "cell": {
        "!": "OSMagics",
        "HTML": "Other",
        "SVG": "Other",
        "bash": "Other",
        "capture": "ExecutionMagics",
        "cmd": "Other",
        "debug": "ExecutionMagics",
        "file": "Other",
        "html": "DisplayMagics",
        "javascript": "DisplayMagics",
        "js": "DisplayMagics",
        "latex": "DisplayMagics",
        "markdown": "DisplayMagics",
        "perl": "Other",
        "prun": "ExecutionMagics",
        "pypy": "Other",
        "python": "Other",
        "python2": "Other",
        "python3": "Other",
        "ruby": "Other",
        "script": "ScriptMagics",
        "sh": "Other",
        "svg": "DisplayMagics",
        "sx": "OSMagics",
        "system": "OSMagics",
        "time": "ExecutionMagics",
        "timeit": "ExecutionMagics",
        "writefile": "OSMagics"
       },
       "line": {
        "alias": "OSMagics",
        "alias_magic": "BasicMagics",
        "autoawait": "AsyncMagics",
        "autocall": "AutoMagics",
        "automagic": "AutoMagics",
        "autosave": "KernelMagics",
        "bookmark": "OSMagics",
        "cd": "OSMagics",
        "clear": "KernelMagics",
        "cls": "KernelMagics",
        "colors": "BasicMagics",
        "conda": "PackagingMagics",
        "config": "ConfigMagics",
        "connect_info": "KernelMagics",
        "copy": "Other",
        "ddir": "Other",
        "debug": "ExecutionMagics",
        "dhist": "OSMagics",
        "dirs": "OSMagics",
        "doctest_mode": "BasicMagics",
        "echo": "Other",
        "ed": "Other",
        "edit": "KernelMagics",
        "env": "OSMagics",
        "gui": "BasicMagics",
        "hist": "Other",
        "history": "HistoryMagics",
        "killbgscripts": "ScriptMagics",
        "ldir": "Other",
        "less": "KernelMagics",
        "load": "CodeMagics",
        "load_ext": "ExtensionMagics",
        "loadpy": "CodeMagics",
        "logoff": "LoggingMagics",
        "logon": "LoggingMagics",
        "logstart": "LoggingMagics",
        "logstate": "LoggingMagics",
        "logstop": "LoggingMagics",
        "ls": "Other",
        "lsmagic": "BasicMagics",
        "macro": "ExecutionMagics",
        "magic": "BasicMagics",
        "matplotlib": "PylabMagics",
        "mkdir": "Other",
        "more": "KernelMagics",
        "notebook": "BasicMagics",
        "page": "BasicMagics",
        "pastebin": "CodeMagics",
        "pdb": "ExecutionMagics",
        "pdef": "NamespaceMagics",
        "pdoc": "NamespaceMagics",
        "pfile": "NamespaceMagics",
        "pinfo": "NamespaceMagics",
        "pinfo2": "NamespaceMagics",
        "pip": "PackagingMagics",
        "popd": "OSMagics",
        "pprint": "BasicMagics",
        "precision": "BasicMagics",
        "prun": "ExecutionMagics",
        "psearch": "NamespaceMagics",
        "psource": "NamespaceMagics",
        "pushd": "OSMagics",
        "pwd": "OSMagics",
        "pycat": "OSMagics",
        "pylab": "PylabMagics",
        "qtconsole": "KernelMagics",
        "quickref": "BasicMagics",
        "recall": "HistoryMagics",
        "rehashx": "OSMagics",
        "reload_ext": "ExtensionMagics",
        "ren": "Other",
        "rep": "Other",
        "rerun": "HistoryMagics",
        "reset": "NamespaceMagics",
        "reset_selective": "NamespaceMagics",
        "rmdir": "Other",
        "run": "ExecutionMagics",
        "save": "CodeMagics",
        "sc": "OSMagics",
        "set_env": "OSMagics",
        "store": "StoreMagics",
        "sx": "OSMagics",
        "system": "OSMagics",
        "tb": "ExecutionMagics",
        "time": "ExecutionMagics",
        "timeit": "ExecutionMagics",
        "unalias": "OSMagics",
        "unload_ext": "ExtensionMagics",
        "who": "NamespaceMagics",
        "who_ls": "NamespaceMagics",
        "whos": "NamespaceMagics",
        "xdel": "NamespaceMagics",
        "xmode": "BasicMagics"
       }
      },
      "text/plain": [
       "Available line magics:\n",
       "%alias  %alias_magic  %autoawait  %autocall  %automagic  %autosave  %bookmark  %cd  %clear  %cls  %colors  %conda  %config  %connect_info  %copy  %ddir  %debug  %dhist  %dirs  %doctest_mode  %echo  %ed  %edit  %env  %gui  %hist  %history  %killbgscripts  %ldir  %less  %load  %load_ext  %loadpy  %logoff  %logon  %logstart  %logstate  %logstop  %ls  %lsmagic  %macro  %magic  %matplotlib  %mkdir  %more  %notebook  %page  %pastebin  %pdb  %pdef  %pdoc  %pfile  %pinfo  %pinfo2  %pip  %popd  %pprint  %precision  %prun  %psearch  %psource  %pushd  %pwd  %pycat  %pylab  %qtconsole  %quickref  %recall  %rehashx  %reload_ext  %ren  %rep  %rerun  %reset  %reset_selective  %rmdir  %run  %save  %sc  %set_env  %store  %sx  %system  %tb  %time  %timeit  %unalias  %unload_ext  %who  %who_ls  %whos  %xdel  %xmode\n",
       "\n",
       "Available cell magics:\n",
       "%%!  %%HTML  %%SVG  %%bash  %%capture  %%cmd  %%debug  %%file  %%html  %%javascript  %%js  %%latex  %%markdown  %%perl  %%prun  %%pypy  %%python  %%python2  %%python3  %%ruby  %%script  %%sh  %%svg  %%sx  %%system  %%time  %%timeit  %%writefile\n",
       "\n",
       "Automagic is ON, % prefix IS NOT needed for line magics."
      ]
     },
     "execution_count": 15,
     "metadata": {},
     "output_type": "execute_result"
    }
   ],
   "source": [
    "%lsmagic"
   ]
  },
  {
   "cell_type": "code",
   "execution_count": 17,
   "metadata": {},
   "outputs": [
    {
     "data": {
      "text/latex": [
       "$$ \\alpha = \\beta + \\gamma $$\n"
      ],
      "text/plain": [
       "<IPython.core.display.Latex object>"
      ]
     },
     "metadata": {},
     "output_type": "display_data"
    }
   ],
   "source": [
    "%%latex\n",
    "$$ \\alpha = \\beta + \\gamma $$"
   ]
  },
  {
   "cell_type": "code",
   "execution_count": 18,
   "metadata": {},
   "outputs": [
    {
     "data": {
      "text/plain": [
       "'C:\\\\Users\\\\willi\\\\Dropbox\\\\working\\\\Projects\\\\190817 ML study group'"
      ]
     },
     "execution_count": 18,
     "metadata": {},
     "output_type": "execute_result"
    }
   ],
   "source": [
    "%pwd"
   ]
  },
  {
   "cell_type": "code",
   "execution_count": 19,
   "metadata": {},
   "outputs": [
    {
     "name": "stdout",
     "output_type": "stream",
     "text": [
      " Volume in drive C has no label.\n",
      " Volume Serial Number is 6636-1838\n",
      "\n",
      " Directory of C:\\Users\\willi\\Dropbox\\working\\Projects\\190817 ML study group\n",
      "\n",
      "21-Aug-19  14:46    <DIR>          .\n",
      "21-Aug-19  14:46    <DIR>          ..\n",
      "21-Aug-19  14:17    <DIR>          .ipynb_checkpoints\n",
      "18-Aug-19  17:49             1,126 190817 intro to python with spyder.py\n",
      "18-Aug-19  15:46               653 190818 learning pd.py\n",
      "18-Aug-19  15:46             1,097 190818 lerning_pandaspy1.py\n",
      "21-Aug-19  14:19            47,722 First tutorial jupyter notebook.ipynb\n",
      "21-Aug-19  14:46             9,994 learning_jupyter_notebook.ipynb\n",
      "               5 File(s)         60,592 bytes\n",
      "               3 Dir(s)  794,170,535,936 bytes free\n"
     ]
    }
   ],
   "source": [
    "%ls"
   ]
  },
  {
   "cell_type": "code",
   "execution_count": 21,
   "metadata": {},
   "outputs": [
    {
     "name": "stdout",
     "output_type": "stream",
     "text": [
      " Volume in drive C has no label.\n",
      " Volume Serial Number is 6636-1838\n",
      "\n",
      " Directory of C:\\Users\\willi\\Dropbox\\working\\Projects\\190817 ML study group\n",
      "\n"
     ]
    },
    {
     "name": "stderr",
     "output_type": "stream",
     "text": [
      "File Not Found\n"
     ]
    }
   ],
   "source": [
    "%ls -la"
   ]
  },
  {
   "cell_type": "code",
   "execution_count": 2,
   "metadata": {},
   "outputs": [],
   "source": [
    "%matplotlib inline\n",
    "#allows matplotlib to show output in jupyter"
   ]
  },
  {
   "cell_type": "code",
   "execution_count": 3,
   "metadata": {
    "collapsed": true
   },
   "outputs": [
    {
     "data": {
      "image/png": "[encoded data removed]",
      "text/plain": [
       "<Figure size 432x288 with 1 Axes>"
      ]
     },
     "metadata": {
      "needs_background": "light"
     },
     "output_type": "display_data"
    }
   ],
   "source": [
    "\"\"\"\n",
    "Simple demo of a scatter plot.\n",
    "\"\"\"\n",
    "import numpy as np\n",
    "import matplotlib.pyplot as plt\n",
    "\n",
    "N=50\n",
    "x = np.random.rand(N)\n",
    "y = np.random.rand(N)\n",
    "colors = np.random.rand(N)\n",
    "area = np.pi * (15*np.random.rand(N))**2  #0 to 15 point radius\n",
    "\n",
    "plt.scatter(x, y, s=area, c=colors, alpha=0.5)\n",
    "plt.show()"
   ]
  },
  {
   "cell_type": "code",
   "execution_count": 17,
   "metadata": {},
   "outputs": [
    {
     "name": "stdout",
     "output_type": "stream",
     "text": [
      "778 ns ± 65.9 ns per loop (mean ± std. dev. of 7 runs, 1000000 loops each)\n"
     ]
    }
   ],
   "source": [
    "%%timeit\n",
    "square_evens = [n*n for n in range(3)]\n"
   ]
  },
  {
   "cell_type": "code",
   "execution_count": 18,
   "metadata": {},
   "outputs": [],
   "source": [
    "import pandas as pd\n",
    "import numpy as np"
   ]
  },
  {
   "cell_type": "code",
   "execution_count": 19,
   "metadata": {},
   "outputs": [
    {
     "data": {
      "text/html": [
       "<div>\n",
       "<style scoped>\n",
       "    .dataframe tbody tr th:only-of-type {\n",
       "        vertical-align: middle;\n",
       "    }\n",
       "\n",
       "    .dataframe tbody tr th {\n",
       "        vertical-align: top;\n",
       "    }\n",
       "\n",
       "    .dataframe thead th {\n",
       "        text-align: right;\n",
       "    }\n",
       "</style>\n",
       "<table border=\"1\" class=\"dataframe\">\n",
       "  <thead>\n",
       "    <tr style=\"text-align: right;\">\n",
       "      <th></th>\n",
       "      <th>0</th>\n",
       "      <th>1</th>\n",
       "      <th>2</th>\n",
       "      <th>3</th>\n",
       "      <th>4</th>\n",
       "      <th>5</th>\n",
       "      <th>6</th>\n",
       "    </tr>\n",
       "  </thead>\n",
       "  <tbody>\n",
       "    <tr>\n",
       "      <th>0</th>\n",
       "      <td>-0.069157</td>\n",
       "      <td>-0.594684</td>\n",
       "      <td>-0.480408</td>\n",
       "      <td>-1.217126</td>\n",
       "      <td>0.554447</td>\n",
       "      <td>-0.551296</td>\n",
       "      <td>0.255370</td>\n",
       "    </tr>\n",
       "    <tr>\n",
       "      <th>1</th>\n",
       "      <td>-1.192341</td>\n",
       "      <td>-0.008409</td>\n",
       "      <td>-1.646577</td>\n",
       "      <td>-1.568671</td>\n",
       "      <td>0.704656</td>\n",
       "      <td>-0.345303</td>\n",
       "      <td>-0.918636</td>\n",
       "    </tr>\n",
       "    <tr>\n",
       "      <th>2</th>\n",
       "      <td>0.910514</td>\n",
       "      <td>1.137837</td>\n",
       "      <td>-0.690860</td>\n",
       "      <td>0.128890</td>\n",
       "      <td>1.203908</td>\n",
       "      <td>-1.240942</td>\n",
       "      <td>-1.054251</td>\n",
       "    </tr>\n",
       "    <tr>\n",
       "      <th>3</th>\n",
       "      <td>0.191592</td>\n",
       "      <td>0.401042</td>\n",
       "      <td>-0.300106</td>\n",
       "      <td>-0.843768</td>\n",
       "      <td>-2.289992</td>\n",
       "      <td>1.713582</td>\n",
       "      <td>-0.741438</td>\n",
       "    </tr>\n",
       "    <tr>\n",
       "      <th>4</th>\n",
       "      <td>0.615382</td>\n",
       "      <td>1.880694</td>\n",
       "      <td>0.988427</td>\n",
       "      <td>-0.697652</td>\n",
       "      <td>0.483171</td>\n",
       "      <td>1.622910</td>\n",
       "      <td>-0.543928</td>\n",
       "    </tr>\n",
       "    <tr>\n",
       "      <th>5</th>\n",
       "      <td>1.645128</td>\n",
       "      <td>0.622939</td>\n",
       "      <td>-0.121687</td>\n",
       "      <td>0.464561</td>\n",
       "      <td>-0.708897</td>\n",
       "      <td>-1.637827</td>\n",
       "      <td>0.723246</td>\n",
       "    </tr>\n",
       "    <tr>\n",
       "      <th>6</th>\n",
       "      <td>0.812722</td>\n",
       "      <td>-1.162164</td>\n",
       "      <td>-0.141971</td>\n",
       "      <td>-0.231749</td>\n",
       "      <td>0.025619</td>\n",
       "      <td>-0.184764</td>\n",
       "      <td>0.607750</td>\n",
       "    </tr>\n",
       "    <tr>\n",
       "      <th>7</th>\n",
       "      <td>-0.262536</td>\n",
       "      <td>-0.123074</td>\n",
       "      <td>-0.106196</td>\n",
       "      <td>1.353552</td>\n",
       "      <td>-0.199596</td>\n",
       "      <td>1.505075</td>\n",
       "      <td>1.295327</td>\n",
       "    </tr>\n",
       "    <tr>\n",
       "      <th>8</th>\n",
       "      <td>-0.453192</td>\n",
       "      <td>-0.038714</td>\n",
       "      <td>0.933939</td>\n",
       "      <td>-0.686744</td>\n",
       "      <td>-1.586503</td>\n",
       "      <td>-0.648134</td>\n",
       "      <td>-0.065710</td>\n",
       "    </tr>\n",
       "    <tr>\n",
       "      <th>9</th>\n",
       "      <td>-1.019007</td>\n",
       "      <td>1.489763</td>\n",
       "      <td>-0.384558</td>\n",
       "      <td>0.944972</td>\n",
       "      <td>-1.258108</td>\n",
       "      <td>-1.995434</td>\n",
       "      <td>-1.347140</td>\n",
       "    </tr>\n",
       "  </tbody>\n",
       "</table>\n",
       "</div>"
      ],
      "text/plain": [
       "          0         1         2         3         4         5         6\n",
       "0 -0.069157 -0.594684 -0.480408 -1.217126  0.554447 -0.551296  0.255370\n",
       "1 -1.192341 -0.008409 -1.646577 -1.568671  0.704656 -0.345303 -0.918636\n",
       "2  0.910514  1.137837 -0.690860  0.128890  1.203908 -1.240942 -1.054251\n",
       "3  0.191592  0.401042 -0.300106 -0.843768 -2.289992  1.713582 -0.741438\n",
       "4  0.615382  1.880694  0.988427 -0.697652  0.483171  1.622910 -0.543928\n",
       "5  1.645128  0.622939 -0.121687  0.464561 -0.708897 -1.637827  0.723246\n",
       "6  0.812722 -1.162164 -0.141971 -0.231749  0.025619 -0.184764  0.607750\n",
       "7 -0.262536 -0.123074 -0.106196  1.353552 -0.199596  1.505075  1.295327\n",
       "8 -0.453192 -0.038714  0.933939 -0.686744 -1.586503 -0.648134 -0.065710\n",
       "9 -1.019007  1.489763 -0.384558  0.944972 -1.258108 -1.995434 -1.347140"
      ]
     },
     "execution_count": 19,
     "metadata": {},
     "output_type": "execute_result"
    }
   ],
   "source": [
    "df = pd.DataFrame(np.random.randn(10,7))\n",
    "df"
   ]
  },
  {
   "cell_type": "code",
   "execution_count": null,
   "metadata": {},
   "outputs": [],
   "source": [
    "#A gallery with interesting jupyter notebooks\n",
    "#https://github.com/jupyter/jupyter/wiki/A-gallery-of-interesting-Jupyter-Notebooks\n",
    "#https://github.com/jupyter/jupyter/wiki/A-gallery-of-interesting-Jupyter-Notebooks\n",
    "#https://github.com/jupyter/jupyter/wiki/A-gallery-of-interesting-Jupyter-Notebooks\n"
   ]
  },
  {
   "cell_type": "code",
   "execution_count": null,
   "metadata": {},
   "outputs": [],
   "source": []
  },
  {
   "cell_type": "code",
   "execution_count": null,
   "metadata": {},
   "outputs": [],
   "source": []
  },
  {
   "cell_type": "code",
   "execution_count": null,
   "metadata": {},
   "outputs": [],
   "source": []
  },
  {
   "cell_type": "code",
   "execution_count": null,
   "metadata": {},
   "outputs": [],
   "source": []
  },
  {
   "cell_type": "code",
   "execution_count": null,
   "metadata": {},
   "outputs": [],
   "source": []
  },
  {
   "cell_type": "code",
   "execution_count": null,
   "metadata": {},
   "outputs": [],
   "source": []
  },
  {
   "cell_type": "code",
   "execution_count": null,
   "metadata": {},
   "outputs": [],
   "source": []
  },
  {
   "cell_type": "code",
   "execution_count": null,
   "metadata": {},
   "outputs": [],
   "source": []
  },
  {
   "cell_type": "code",
   "execution_count": null,
   "metadata": {},
   "outputs": [],
   "source": []
  }
 ],
 "metadata": {
  "kernelspec": {
   "display_name": "Python 3",
   "language": "python",
   "name": "python3"
  },
  "language_info": {
   "codemirror_mode": {
    "name": "ipython",
    "version": 3
   },
   "file_extension": ".py",
   "mimetype": "text/x-python",
   "name": "python",
   "nbconvert_exporter": "python",
   "pygments_lexer": "ipython3",
   "version": "3.7.4"
  }
 },
 "nbformat": 4,
 "nbformat_minor": 2
}
