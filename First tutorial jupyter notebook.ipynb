{
 "cells": [
  {
   "cell_type": "markdown",
   "metadata": {},
   "source": [
    "# Header\n",
    "    \n",
    "This notebook test was based on:\n",
    "\n",
    "Jupyter Notebook Tutorial: Introduction, Setup, and Walkthrough\n",
    "\n",
    "https://www.youtube.com/watch?v=HW29067qVWk&t=981s\n",
    "\n",
    "*Note that this text will be in italic*\n",
    "\n",
    "## Another headline (H2)\n",
    "\n",
    "This is a normal paragraph.\n",
    "\n",
    "Basic formatting *italics*, **bold** and *it can be **nested** like this*\n",
    "\n",
    "### Another headline (H3)\n",
    "\n",
    "1. item 1\n",
    "2. item 2\n",
    "3. item 3"
   ]
  },
  {
   "cell_type": "code",
   "execution_count": null,
   "metadata": {},
   "outputs": [],
   "source": [
    "print('Hello World')"
   ]
  },
  {
   "cell_type": "code",
   "execution_count": null,
   "metadata": {},
   "outputs": [],
   "source": [
    "name = 'John'"
   ]
  },
  {
   "cell_type": "code",
   "execution_count": null,
   "metadata": {},
   "outputs": [],
   "source": [
    "name"
   ]
  },
  {
   "cell_type": "code",
   "execution_count": null,
   "metadata": {},
   "outputs": [],
   "source": [
    "name = 'Corey'"
   ]
  },
  {
   "cell_type": "code",
   "execution_count": null,
   "metadata": {},
   "outputs": [],
   "source": [
    "name"
   ]
  },
  {
   "cell_type": "code",
   "execution_count": null,
   "metadata": {},
   "outputs": [],
   "source": [
    "#starting the command with a ! jupyter interprets it as a bash command\n",
    "#!pip list"
   ]
  },
  {
   "cell_type": "code",
   "execution_count": null,
   "metadata": {},
   "outputs": [],
   "source": [
    "#magic signs starts with %\n",
    "#cell magic sign start with %%\n",
    "%lsmagic\n",
    "#this shows all magic commands"
   ]
  },
  {
   "cell_type": "code",
   "execution_count": null,
   "metadata": {},
   "outputs": [],
   "source": [
    "%pwd \n",
    "#prints the working directory"
   ]
  },
  {
   "cell_type": "code",
   "execution_count": 2,
   "metadata": {},
   "outputs": [
    {
     "name": "stdout",
     "output_type": "stream",
     "text": [
      " Volume in drive C has no label.\n",
      " Volume Serial Number is 6636-1838\n",
      "\n",
      " Directory of C:\\Users\\willi\\Desktop\\working\\Projects\\190606 jupyter notebook 1\n",
      "\n",
      "06-Jun-19  11:10    <DIR>          .\n",
      "06-Jun-19  11:10    <DIR>          ..\n",
      "06-Jun-19  09:51    <DIR>          .ipynb_checkpoints\n",
      "06-Jun-19  11:10            34,512 First tutorial jupyter notebook.ipynb\n",
      "               1 File(s)         34,512 bytes\n",
      "               3 Dir(s)  782,951,014,400 bytes free\n"
     ]
    }
   ],
   "source": [
    "%ls\n",
    "#shows the files and folder inside that directory"
   ]
  },
  {
   "cell_type": "code",
   "execution_count": null,
   "metadata": {},
   "outputs": [],
   "source": [
    "#%ls -la #list all objects inside the working directory but with detail, it is the long form"
   ]
  },
  {
   "cell_type": "code",
   "execution_count": 3,
   "metadata": {},
   "outputs": [],
   "source": [
    "%matplotlib inline \n",
    "#this commands allows python to show plots in line of the notebook\n",
    "#%matplotlibe tk is used in ipython in the cmd and scripting"
   ]
  },
  {
   "cell_type": "code",
   "execution_count": 4,
   "metadata": {},
   "outputs": [
    {
     "data": {
      "image/png": "[encoded data removed]",
      "text/plain": [
       "<Figure size 432x288 with 1 Axes>"
      ]
     },
     "metadata": {
      "needs_background": "light"
     },
     "output_type": "display_data"
    }
   ],
   "source": [
    "\"\"\"\n",
    "Simple demo of a scatter plot.\n",
    "\"\"\"\n",
    "import numpy as np\n",
    "import matplotlib.pyplot as plt\n",
    "\n",
    "N=50\n",
    "x = np.random.rand(N)\n",
    "y = np.random.rand(N)\n",
    "colors = np.random.rand(N)\n",
    "area = np.pi * (15*np.random.rand(N))**2  #0 to 15 point radius\n",
    "\n",
    "plt.scatter(x, y, s=area, c=colors, alpha=0.5)\n",
    "plt.show()\n"
   ]
  },
  {
   "cell_type": "code",
   "execution_count": 5,
   "metadata": {},
   "outputs": [
    {
     "data": {
      "text/html": [
       "#the entire cell will be interpreted as HTML now\n"
      ],
      "text/plain": [
       "<IPython.core.display.HTML object>"
      ]
     },
     "metadata": {},
     "output_type": "display_data"
    }
   ],
   "source": [
    "%%HTML \n",
    "#the entire cell will be interpreted as HTML now"
   ]
  },
  {
   "cell_type": "code",
   "execution_count": 6,
   "metadata": {},
   "outputs": [
    {
     "name": "stdout",
     "output_type": "stream",
     "text": [
      "85.3 µs ± 13.3 µs per loop (mean ± std. dev. of 7 runs, 10000 loops each)\n"
     ]
    }
   ],
   "source": [
    "%%timeit\n",
    "square_events = [n*n for n in range(1000)]\n",
    "square_events"
   ]
  },
  {
   "cell_type": "code",
   "execution_count": 8,
   "metadata": {},
   "outputs": [
    {
     "data": {
      "text/html": [
       "<div>\n",
       "<style scoped>\n",
       "    .dataframe tbody tr th:only-of-type {\n",
       "        vertical-align: middle;\n",
       "    }\n",
       "\n",
       "    .dataframe tbody tr th {\n",
       "        vertical-align: top;\n",
       "    }\n",
       "\n",
       "    .dataframe thead th {\n",
       "        text-align: right;\n",
       "    }\n",
       "</style>\n",
       "<table border=\"1\" class=\"dataframe\">\n",
       "  <thead>\n",
       "    <tr style=\"text-align: right;\">\n",
       "      <th></th>\n",
       "      <th>0</th>\n",
       "      <th>1</th>\n",
       "      <th>2</th>\n",
       "      <th>3</th>\n",
       "      <th>4</th>\n",
       "      <th>5</th>\n",
       "      <th>6</th>\n",
       "    </tr>\n",
       "  </thead>\n",
       "  <tbody>\n",
       "    <tr>\n",
       "      <th>0</th>\n",
       "      <td>1.513698</td>\n",
       "      <td>1.296524</td>\n",
       "      <td>1.434099</td>\n",
       "      <td>0.928232</td>\n",
       "      <td>-0.382319</td>\n",
       "      <td>0.686305</td>\n",
       "      <td>0.468570</td>\n",
       "    </tr>\n",
       "    <tr>\n",
       "      <th>1</th>\n",
       "      <td>-0.321936</td>\n",
       "      <td>-0.591457</td>\n",
       "      <td>-2.120361</td>\n",
       "      <td>-1.004299</td>\n",
       "      <td>-1.379937</td>\n",
       "      <td>-0.312358</td>\n",
       "      <td>-0.026319</td>\n",
       "    </tr>\n",
       "    <tr>\n",
       "      <th>2</th>\n",
       "      <td>1.104994</td>\n",
       "      <td>-0.249071</td>\n",
       "      <td>-0.248911</td>\n",
       "      <td>0.685218</td>\n",
       "      <td>1.567643</td>\n",
       "      <td>0.728682</td>\n",
       "      <td>-0.827969</td>\n",
       "    </tr>\n",
       "    <tr>\n",
       "      <th>3</th>\n",
       "      <td>0.021663</td>\n",
       "      <td>-0.390300</td>\n",
       "      <td>0.503339</td>\n",
       "      <td>0.033029</td>\n",
       "      <td>-1.894475</td>\n",
       "      <td>-0.409959</td>\n",
       "      <td>0.205379</td>\n",
       "    </tr>\n",
       "    <tr>\n",
       "      <th>4</th>\n",
       "      <td>0.036108</td>\n",
       "      <td>-2.370261</td>\n",
       "      <td>2.549883</td>\n",
       "      <td>0.277666</td>\n",
       "      <td>-0.818960</td>\n",
       "      <td>1.577502</td>\n",
       "      <td>0.116334</td>\n",
       "    </tr>\n",
       "    <tr>\n",
       "      <th>5</th>\n",
       "      <td>-0.189961</td>\n",
       "      <td>1.385467</td>\n",
       "      <td>-0.283952</td>\n",
       "      <td>0.461509</td>\n",
       "      <td>-1.465739</td>\n",
       "      <td>-0.410238</td>\n",
       "      <td>-0.661155</td>\n",
       "    </tr>\n",
       "    <tr>\n",
       "      <th>6</th>\n",
       "      <td>-0.253861</td>\n",
       "      <td>0.646843</td>\n",
       "      <td>0.784080</td>\n",
       "      <td>1.202014</td>\n",
       "      <td>-0.288003</td>\n",
       "      <td>-0.166858</td>\n",
       "      <td>1.121226</td>\n",
       "    </tr>\n",
       "    <tr>\n",
       "      <th>7</th>\n",
       "      <td>1.356941</td>\n",
       "      <td>-1.415974</td>\n",
       "      <td>-1.493755</td>\n",
       "      <td>0.067391</td>\n",
       "      <td>-0.262175</td>\n",
       "      <td>-0.873928</td>\n",
       "      <td>0.013082</td>\n",
       "    </tr>\n",
       "    <tr>\n",
       "      <th>8</th>\n",
       "      <td>-0.339406</td>\n",
       "      <td>1.448502</td>\n",
       "      <td>2.385986</td>\n",
       "      <td>-0.731812</td>\n",
       "      <td>-1.438406</td>\n",
       "      <td>-0.422952</td>\n",
       "      <td>0.267705</td>\n",
       "    </tr>\n",
       "    <tr>\n",
       "      <th>9</th>\n",
       "      <td>1.471738</td>\n",
       "      <td>0.143715</td>\n",
       "      <td>-2.346929</td>\n",
       "      <td>-1.593754</td>\n",
       "      <td>1.031168</td>\n",
       "      <td>0.630614</td>\n",
       "      <td>-1.393840</td>\n",
       "    </tr>\n",
       "  </tbody>\n",
       "</table>\n",
       "</div>"
      ],
      "text/plain": [
       "          0         1         2         3         4         5         6\n",
       "0  1.513698  1.296524  1.434099  0.928232 -0.382319  0.686305  0.468570\n",
       "1 -0.321936 -0.591457 -2.120361 -1.004299 -1.379937 -0.312358 -0.026319\n",
       "2  1.104994 -0.249071 -0.248911  0.685218  1.567643  0.728682 -0.827969\n",
       "3  0.021663 -0.390300  0.503339  0.033029 -1.894475 -0.409959  0.205379\n",
       "4  0.036108 -2.370261  2.549883  0.277666 -0.818960  1.577502  0.116334\n",
       "5 -0.189961  1.385467 -0.283952  0.461509 -1.465739 -0.410238 -0.661155\n",
       "6 -0.253861  0.646843  0.784080  1.202014 -0.288003 -0.166858  1.121226\n",
       "7  1.356941 -1.415974 -1.493755  0.067391 -0.262175 -0.873928  0.013082\n",
       "8 -0.339406  1.448502  2.385986 -0.731812 -1.438406 -0.422952  0.267705\n",
       "9  1.471738  0.143715 -2.346929 -1.593754  1.031168  0.630614 -1.393840"
      ]
     },
     "execution_count": 8,
     "metadata": {},
     "output_type": "execute_result"
    }
   ],
   "source": [
    "import pandas as pd\n",
    "import numpy as np\n",
    "df = pd.DataFrame(np.random.randn(10,7))\n",
    "df"
   ]
  },
  {
   "cell_type": "code",
   "execution_count": 11,
   "metadata": {},
   "outputs": [
    {
     "data": {
      "text/html": [
       "<div>\n",
       "<style scoped>\n",
       "    .dataframe tbody tr th:only-of-type {\n",
       "        vertical-align: middle;\n",
       "    }\n",
       "\n",
       "    .dataframe tbody tr th {\n",
       "        vertical-align: top;\n",
       "    }\n",
       "\n",
       "    .dataframe thead th {\n",
       "        text-align: right;\n",
       "    }\n",
       "</style>\n",
       "<table border=\"1\" class=\"dataframe\">\n",
       "  <thead>\n",
       "    <tr style=\"text-align: right;\">\n",
       "      <th></th>\n",
       "      <th>0</th>\n",
       "      <th>1</th>\n",
       "      <th>2</th>\n",
       "      <th>3</th>\n",
       "      <th>4</th>\n",
       "      <th>5</th>\n",
       "      <th>6</th>\n",
       "    </tr>\n",
       "  </thead>\n",
       "  <tbody>\n",
       "    <tr>\n",
       "      <th>0</th>\n",
       "      <td>1.513698</td>\n",
       "      <td>1.296524</td>\n",
       "      <td>1.434099</td>\n",
       "      <td>0.928232</td>\n",
       "      <td>-0.382319</td>\n",
       "      <td>0.686305</td>\n",
       "      <td>0.468570</td>\n",
       "    </tr>\n",
       "    <tr>\n",
       "      <th>1</th>\n",
       "      <td>-0.321936</td>\n",
       "      <td>-0.591457</td>\n",
       "      <td>-2.120361</td>\n",
       "      <td>-1.004299</td>\n",
       "      <td>-1.379937</td>\n",
       "      <td>-0.312358</td>\n",
       "      <td>-0.026319</td>\n",
       "    </tr>\n",
       "    <tr>\n",
       "      <th>2</th>\n",
       "      <td>1.104994</td>\n",
       "      <td>-0.249071</td>\n",
       "      <td>-0.248911</td>\n",
       "      <td>0.685218</td>\n",
       "      <td>1.567643</td>\n",
       "      <td>0.728682</td>\n",
       "      <td>-0.827969</td>\n",
       "    </tr>\n",
       "    <tr>\n",
       "      <th>3</th>\n",
       "      <td>0.021663</td>\n",
       "      <td>-0.390300</td>\n",
       "      <td>0.503339</td>\n",
       "      <td>0.033029</td>\n",
       "      <td>-1.894475</td>\n",
       "      <td>-0.409959</td>\n",
       "      <td>0.205379</td>\n",
       "    </tr>\n",
       "    <tr>\n",
       "      <th>4</th>\n",
       "      <td>0.036108</td>\n",
       "      <td>-2.370261</td>\n",
       "      <td>2.549883</td>\n",
       "      <td>0.277666</td>\n",
       "      <td>-0.818960</td>\n",
       "      <td>1.577502</td>\n",
       "      <td>0.116334</td>\n",
       "    </tr>\n",
       "    <tr>\n",
       "      <th>5</th>\n",
       "      <td>-0.189961</td>\n",
       "      <td>1.385467</td>\n",
       "      <td>-0.283952</td>\n",
       "      <td>0.461509</td>\n",
       "      <td>-1.465739</td>\n",
       "      <td>-0.410238</td>\n",
       "      <td>-0.661155</td>\n",
       "    </tr>\n",
       "  </tbody>\n",
       "</table>\n",
       "</div>"
      ],
      "text/plain": [
       "          0         1         2         3         4         5         6\n",
       "0  1.513698  1.296524  1.434099  0.928232 -0.382319  0.686305  0.468570\n",
       "1 -0.321936 -0.591457 -2.120361 -1.004299 -1.379937 -0.312358 -0.026319\n",
       "2  1.104994 -0.249071 -0.248911  0.685218  1.567643  0.728682 -0.827969\n",
       "3  0.021663 -0.390300  0.503339  0.033029 -1.894475 -0.409959  0.205379\n",
       "4  0.036108 -2.370261  2.549883  0.277666 -0.818960  1.577502  0.116334\n",
       "5 -0.189961  1.385467 -0.283952  0.461509 -1.465739 -0.410238 -0.661155"
      ]
     },
     "execution_count": 11,
     "metadata": {},
     "output_type": "execute_result"
    }
   ],
   "source": [
    "df.head(6)"
   ]
  },
  {
   "cell_type": "code",
   "execution_count": null,
   "metadata": {},
   "outputs": [],
   "source": []
  },
  {
   "cell_type": "code",
   "execution_count": null,
   "metadata": {},
   "outputs": [],
   "source": []
  }
 ],
 "metadata": {
  "kernelspec": {
   "display_name": "Python 3",
   "language": "python",
   "name": "python3"
  },
  "language_info": {
   "codemirror_mode": {
    "name": "ipython",
    "version": 3
   },
   "file_extension": ".py",
   "mimetype": "text/x-python",
   "name": "python",
   "nbconvert_exporter": "python",
   "pygments_lexer": "ipython3",
   "version": "3.7.4"
  }
 },
 "nbformat": 4,
 "nbformat_minor": 2
}
